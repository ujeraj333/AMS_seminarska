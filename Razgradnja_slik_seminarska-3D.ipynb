{
 "cells": [
  {
   "cell_type": "markdown",
   "metadata": {},
   "source": [
    "## Analiza Medicinskih slik: laboratorijske vaje\n",
    "Predno oddate vašo rešitev jo najprej ustrezno preverite. Najprej **resetirajte Python jedro** (v meniju izberite Kernel$\\rightarrow$Restart) in potem **zaženite vse celice** (v meniju izberite Cell$\\rightarrow$Run All).\n",
    "\n",
    "Preverite ali ste nadomestili z vašo kodo oz. besedilom bloke, ki so označeni kot `YOUR CODE HERE` oz. \"YOUR ANSWER HERE\", kot tudi navedli vaše IME in SODELAVCE spodaj:"
   ]
  },
  {
   "cell_type": "code",
   "execution_count": 1,
   "metadata": {},
   "outputs": [],
   "source": [
    "IME = \"\"\n",
    "SODELAVCI = \"\""
   ]
  },
  {
   "cell_type": "markdown",
   "metadata": {},
   "source": [
    "---"
   ]
  },
  {
   "cell_type": "markdown",
   "metadata": {
    "_cell_guid": "e61ef2d8-f315-4f7f-b07e-1de0f4e8441a",
    "_uuid": "1677fddbb95f7545b6540e9201f3339a0fdbfc5d",
    "deletable": false,
    "editable": false,
    "nbgrader": {
     "cell_type": "markdown",
     "checksum": "4c5d1e81741993be7045da294467756d",
     "grade": false,
     "grade_id": "cell-324f3294054d181c",
     "locked": true,
     "schema_version": 3,
     "solution": false,
     "task": false
    }
   },
   "source": [
    "# Analiza slik z nevronskimi mrežami\n",
    "\n",
    "## 3. Razgradnja slik z nevronskimi mrežami\n",
    "\n",
    "### Motivacija\n",
    "\n",
    "Razgradnjo MRI slik pri bolnikih z multiplo sklerozo je klinično motivirana. Preko razgradnje lahko izvajamo meritve razgrajenih struktur, kot so prostornina bele in sive možganovine, prostorina in število patoloških lezij, ipd. Te meritve, npr. prostornina zdravih možganskih struktur in patoloških lezij odražata stanje bolezni, pri čemer na prvo vpliva pospešena nevrodegeneracija pri pospešenem poteku bolezni, druga pa je odraz akutne vnetne aktivnosti bolezni. Fenotipi multiple skleroze se razlikujejo glede na te dva parametra, zato so meritve prostornine, pa tudi drugih parametrov teh struktur pomembni biomarkerji za napovedovanje poteka bolezni in odziva na zdravljenje.\n",
    "\n",
    "### Postopek razgradnje\n",
    "\n",
    "Dano zbirko MR slik preiskave glave bomo razgradili z uporabo nevronskih mrež. Uporabili bomo trenutno najbolj uveljavljeno arhitekturo mreže [U-Net](https://arxiv.org/abs/1505.04597), ki se uporablja za razgradnjo slik.\n",
    "\n",
    "Izvedli bomo binarno razgradnjo MR slik glave, in sicer za različne strukture:\n",
    "- **CSF=1**: likvorska tekočina\n",
    "- **GM=2**: siva možganovina\n",
    "- **CSF=3**: bela možganovina\n",
    "- **LESIONS=10**: patološke lezije\n",
    "\n",
    "Delovanje bomo preizkusili tudi na kombinacijah teh struktur, prav tako nas bo zanimalo katera modaliteta največ prispeva k kakovosti razgradnje. Pri tem bomo kot predznanje uporabili le dane referenčne razgradnje teh slik. \n",
    "\n",
    "### Uvažanje knjižnic"
   ]
  },
  {
   "cell_type": "code",
   "execution_count": 2,
   "metadata": {
    "_cell_guid": "c332549b-8d23-4bb5-8497-e7a8eb8b21d2",
    "_uuid": "5c38504af3a84bee68c66d3cde74443c58df422f"
   },
   "outputs": [
    {
     "name": "stderr",
     "output_type": "stream",
     "text": [
      "Using TensorFlow backend.\n",
      "/opt/conda/lib/python3.6/site-packages/tensorflow/python/framework/dtypes.py:526: FutureWarning: Passing (type, 1) or '1type' as a synonym of type is deprecated; in a future version of numpy, it will be understood as (type, (1,)) / '(1,)type'.\n",
      "  _np_qint8 = np.dtype([(\"qint8\", np.int8, 1)])\n",
      "/opt/conda/lib/python3.6/site-packages/tensorflow/python/framework/dtypes.py:527: FutureWarning: Passing (type, 1) or '1type' as a synonym of type is deprecated; in a future version of numpy, it will be understood as (type, (1,)) / '(1,)type'.\n",
      "  _np_quint8 = np.dtype([(\"quint8\", np.uint8, 1)])\n",
      "/opt/conda/lib/python3.6/site-packages/tensorflow/python/framework/dtypes.py:528: FutureWarning: Passing (type, 1) or '1type' as a synonym of type is deprecated; in a future version of numpy, it will be understood as (type, (1,)) / '(1,)type'.\n",
      "  _np_qint16 = np.dtype([(\"qint16\", np.int16, 1)])\n",
      "/opt/conda/lib/python3.6/site-packages/tensorflow/python/framework/dtypes.py:529: FutureWarning: Passing (type, 1) or '1type' as a synonym of type is deprecated; in a future version of numpy, it will be understood as (type, (1,)) / '(1,)type'.\n",
      "  _np_quint16 = np.dtype([(\"quint16\", np.uint16, 1)])\n",
      "/opt/conda/lib/python3.6/site-packages/tensorflow/python/framework/dtypes.py:530: FutureWarning: Passing (type, 1) or '1type' as a synonym of type is deprecated; in a future version of numpy, it will be understood as (type, (1,)) / '(1,)type'.\n",
      "  _np_qint32 = np.dtype([(\"qint32\", np.int32, 1)])\n",
      "/opt/conda/lib/python3.6/site-packages/tensorflow/python/framework/dtypes.py:535: FutureWarning: Passing (type, 1) or '1type' as a synonym of type is deprecated; in a future version of numpy, it will be understood as (type, (1,)) / '(1,)type'.\n",
      "  np_resource = np.dtype([(\"resource\", np.ubyte, 1)])\n"
     ]
    }
   ],
   "source": [
    "import os\n",
    "import sys\n",
    "import random\n",
    "import warnings\n",
    "\n",
    "import numpy as np\n",
    "import SimpleITK as itk\n",
    "import matplotlib.pyplot as plt\n",
    "from tqdm import tqdm\n",
    "from sklearn.model_selection import train_test_split\n",
    "\n",
    "from keras.models import Model, load_model\n",
    "from keras.layers import Input\n",
    "from keras.layers.core import Dropout, Lambda\n",
    "from keras.layers.convolutional import Conv2D, Conv2DTranspose\n",
    "from keras.layers.pooling import MaxPooling2D\n",
    "from keras.layers.merge import concatenate\n",
    "from keras.callbacks import EarlyStopping, ModelCheckpoint\n",
    "from keras import backend as K\n",
    "\n",
    "import tensorflow as tf\n",
    "\n",
    "from os.path import join\n",
    "from amslib import load_mri_brain_data\n",
    "\n",
    "\n",
    "config = tf.ConfigProto()\n",
    "config.gpu_options.allow_growth = True\n",
    "session = tf.Session(config=config)\n",
    "\n",
    "seed = 42\n",
    "random.seed = seed\n",
    "np.random.seed = seed"
   ]
  },
  {
   "cell_type": "markdown",
   "metadata": {
    "deletable": false,
    "editable": false,
    "nbgrader": {
     "cell_type": "markdown",
     "checksum": "0ff8f7e019d215e991d06d2d24e126bd",
     "grade": false,
     "grade_id": "cell-e533076a3a259e4d",
     "locked": true,
     "schema_version": 3,
     "solution": false,
     "task": false
    }
   },
   "source": [
    "### Konstante in parametri"
   ]
  },
  {
   "cell_type": "code",
   "execution_count": 3,
   "metadata": {},
   "outputs": [],
   "source": [
    "MODEL_NAME = 'model-t1-lores-and-hires-train-v8'\n",
    "# nastavi željeno velikost slik\n",
    "IMG_WIDTH = 64\n",
    "IMG_HEIGHT = 64\n",
    "MODALITIES = ('t1')\n",
    "IMG_CHANNELS = 1\n",
    "# določi delež testnih podatkov\n",
    "TEST_DATA_FRACTION = 0.1"
   ]
  },
  {
   "cell_type": "markdown",
   "metadata": {
    "_cell_guid": "59c4a25d-645f-4b74-9c53-145ac78cc481",
    "_uuid": "875af74f980236825de3a650825b46e25632422c",
    "deletable": false,
    "editable": false,
    "nbgrader": {
     "cell_type": "markdown",
     "checksum": "0c3aa864fb11826ae71fbd9d1ca9eafd",
     "grade": false,
     "grade_id": "cell-f33d7f49556af08b",
     "locked": true,
     "schema_version": 3,
     "solution": false,
     "task": false
    }
   },
   "source": [
    "## 3.1 Naloži MRI podatke in loči med učne in testne\n",
    "\n",
    "Za nalaganje podatkov bomo uporabili funkcijo **load_mri_brain_data()**, ki smo jo predstavili v prvem delu vaje in ki je dana v knjižnici **amslib**. Nato bomo z uporabo funkcije **train_test_split()** ustvarili učno in testno zbirki podatkov. Funkcija naključno priredi posamezno sliko in pripadajoče učne oznake v testno množico v predvidenem deležu, ki je podan s parametrom **test_size**. Slednji je v našem primeru določen s konstanto **TEST_DATA_FRACTION**. Učne podatke bomo uporabili za učenje modela, testne pa za preverjanje kakovosti rešitve oz. zmožnosti posploševanja naučenega modela."
   ]
  },
  {
   "cell_type": "code",
   "execution_count": 4,
   "metadata": {},
   "outputs": [
    {
     "name": "stderr",
     "output_type": "stream",
     "text": [
      "100%|██████████| 10/10 [00:01<00:00,  7.06it/s]\n"
     ]
    },
    {
     "name": "stdout",
     "output_type": "stream",
     "text": [
      "Velikost 4D polja za učenje: (351, 64, 64, 1)\n",
      "Velikost 4D polja za testiranje: (39, 64, 64, 1)\n"
     ]
    }
   ],
   "source": [
    "X, Y_seg = load_mri_brain_data(output_size=(IMG_WIDTH, IMG_HEIGHT), modalities=('stir'),data_location='./data_t1_lores_and_hires')\n",
    "Y_seg = (Y_seg > 0).astype('int8')\n",
    "X_train, X_test, y_train, y_test = train_test_split(X, Y_seg , test_size=TEST_DATA_FRACTION)\n",
    "\n",
    "print('Velikost 4D polja za učenje: {}'.format(X_train.shape))\n",
    "print('Velikost 4D polja za testiranje: {}'.format(X_test.shape))\n"
   ]
  },
  {
   "cell_type": "markdown",
   "metadata": {
    "_cell_guid": "c0523b03-1fc5-4505-a1b8-eb35ee617c8a",
    "_uuid": "d4f8327802a1ec6139ce0585953986272ba62ce1",
    "deletable": false,
    "editable": false,
    "nbgrader": {
     "cell_type": "markdown",
     "checksum": "fd834f7a19c4466dda3bd17160bf5820",
     "grade": false,
     "grade_id": "cell-54f99907464af44e",
     "locked": true,
     "schema_version": 3,
     "solution": false,
     "task": false
    }
   },
   "source": [
    "### Izris vzorca učnih podatkov"
   ]
  },
  {
   "cell_type": "code",
   "execution_count": 5,
   "metadata": {
    "_cell_guid": "88829b53-50ce-45d9-9540-77dd7384ad4c",
    "_uuid": "283af26f0860b7069bdfd133c746e5d20971542c"
   },
   "outputs": [
    {
     "data": {
      "text/plain": [
       "Text(0.5, 1.0, 'Referenčna razgradnja')"
      ]
     },
     "execution_count": 5,
     "metadata": {},
     "output_type": "execute_result"
    },
    {
     "data": {
      "image/png": "[encoded data removed]",
      "text/plain": [
       "<Figure size 1440x360 with 2 Axes>"
      ]
     },
     "metadata": {
      "needs_background": "light"
     },
     "output_type": "display_data"
    }
   ],
   "source": [
    "# Check if training data looks all right\n",
    "ix = random.randint(0, X_train.shape[0]-1)\n",
    "_, _, num_modalities = X_train[ix].shape\n",
    "\n",
    "titles = [m.upper() + ' slika' for m in MODALITIES] + ['Referenčna razgradnja']\n",
    "f, ax = plt.subplots(1, num_modalities+1, sharex=True, sharey=True, figsize=(20, 5))\n",
    "for i in range(num_modalities):\n",
    "    ax[i].imshow(X_train[ix][:,:,i], cmap='gray')\n",
    "    ax[i].set_title(titles[i])\n",
    "    ax[i].axis('off')\n",
    "ax[-1].imshow(np.squeeze(y_train[ix]))\n",
    "ax[-1].set_title(titles[-1])"
   ]
  },
  {
   "cell_type": "markdown",
   "metadata": {
    "_cell_guid": "2574ffe9-b911-4bfd-a00f-9ba5c25f45de",
    "_uuid": "938648da705689a0f940ff462477c801db3f0737",
    "deletable": false,
    "editable": false,
    "nbgrader": {
     "cell_type": "markdown",
     "checksum": "7b2e5a02b49b529cedd25455e5188c2d",
     "grade": false,
     "grade_id": "cell-053cd60017ad63e1",
     "locked": true,
     "schema_version": 3,
     "solution": false,
     "task": false
    }
   },
   "source": [
    "## 3.2 Načrtovanje in učenje U-net modela\n",
    "\n",
    "V naslednjem bloku bomo načrtali U-Net model, ki temelji na [U-Net: Convolutional Networks for Biomedical Image Segmentation](https://arxiv.org/pdf/1505.04597.pdf) in je podoben [javno dostopni implementaciji](https://github.com/jocicmarko/ultrasound-nerve-segmentation) iz tekmovanja Kaggle Ultrasound Nerve Segmentation.\n",
    "\n",
    "![](https://lmb.informatik.uni-freiburg.de/people/ronneber/u-net/u-net-architecture.png)"
   ]
  },
  {
   "cell_type": "markdown",
   "metadata": {
    "deletable": false,
    "editable": false,
    "nbgrader": {
     "cell_type": "markdown",
     "checksum": "57e80f1eceba05d9bc8ad1fecda4ac2d",
     "grade": false,
     "grade_id": "cell-7e74424798eb03db",
     "locked": true,
     "schema_version": 3,
     "solution": false,
     "task": false
    }
   },
   "source": [
    "### Definicija modela\n",
    "\n",
    "Uporabili bomo **Functional (model API)** način definicije modela v knjižnici **Keras**. Določili bomo objekte posameznih gradnikov in jih poljubno (tj. ne nujno zaporedoma) povezali med seboj. Na koncu moramo dobiti dva objekta, kjer prvi predstavlja vhod, drugi pa izhod. S tema objektoma nato inicializiramo model s klicem konstruktorja **Model(inputs=, outputs=)**.\n",
    "\n",
    "Uporabljalli bomo že znane osnovne gradnike **Conv2D**, **MaxPooling2D**, **Dropout**, **Dense** in **Flatten**, poleg tega pa še:\n",
    "- **Conv2DTranspose**: konvolucijska plast, ki poviša velikost izhodnega polja glede na vhodno; gradniku podamo število filtrov, velikost filtrov, prostorski korak filtra (*stride*)\n",
    "\n",
    "Pri konvolucijskih plasteh **Conv2D** in **Conv2DTranspose** smo nastavili še parametra inicializacije uteži po postopku *he_normal* in dodajanje elementov *padding* za zagotavljanje ustrezne velikosti izhodnega polja. S klicem funkcije **summary()** dobimo izpis strukture in števila parametrov modela."
   ]
  },
  {
   "cell_type": "code",
   "execution_count": 6,
   "metadata": {
    "_cell_guid": "c1dbc57c-b497-4ccb-b077-2053203ab7ed",
    "_uuid": "0aa97d66c29f45dfac9b0f45fcf74ba0e778ba5d",
    "deletable": false,
    "nbgrader": {
     "cell_type": "code",
     "checksum": "285c424847c9d00be68ff3a1bbc17688",
     "grade": false,
     "grade_id": "cell-f92c550af100aaa8",
     "locked": false,
     "schema_version": 3,
     "solution": true,
     "task": false
    }
   },
   "outputs": [
    {
     "name": "stdout",
     "output_type": "stream",
     "text": [
      "WARNING:tensorflow:From /opt/conda/lib/python3.6/site-packages/tensorflow/python/framework/op_def_library.py:263: colocate_with (from tensorflow.python.framework.ops) is deprecated and will be removed in a future version.\n",
      "Instructions for updating:\n",
      "Colocations handled automatically by placer.\n",
      "WARNING:tensorflow:From /opt/conda/lib/python3.6/site-packages/keras/backend/tensorflow_backend.py:3445: calling dropout (from tensorflow.python.ops.nn_ops) with keep_prob is deprecated and will be removed in a future version.\n",
      "Instructions for updating:\n",
      "Please use `rate` instead of `keep_prob`. Rate should be set to `rate = 1 - keep_prob`.\n",
      "__________________________________________________________________________________________________\n",
      "Layer (type)                    Output Shape         Param #     Connected to                     \n",
      "==================================================================================================\n",
      "input_1 (InputLayer)            (None, 64, 64, 1)    0                                            \n",
      "__________________________________________________________________________________________________\n",
      "lambda_1 (Lambda)               (None, 64, 64, 1)    0           input_1[0][0]                    \n",
      "__________________________________________________________________________________________________\n",
      "conv2d_1 (Conv2D)               (None, 64, 64, 16)   160         lambda_1[0][0]                   \n",
      "__________________________________________________________________________________________________\n",
      "dropout_1 (Dropout)             (None, 64, 64, 16)   0           conv2d_1[0][0]                   \n",
      "__________________________________________________________________________________________________\n",
      "conv2d_2 (Conv2D)               (None, 64, 64, 16)   2320        dropout_1[0][0]                  \n",
      "__________________________________________________________________________________________________\n",
      "max_pooling2d_1 (MaxPooling2D)  (None, 32, 32, 16)   0           conv2d_2[0][0]                   \n",
      "__________________________________________________________________________________________________\n",
      "conv2d_3 (Conv2D)               (None, 32, 32, 32)   4640        max_pooling2d_1[0][0]            \n",
      "__________________________________________________________________________________________________\n",
      "dropout_2 (Dropout)             (None, 32, 32, 32)   0           conv2d_3[0][0]                   \n",
      "__________________________________________________________________________________________________\n",
      "conv2d_4 (Conv2D)               (None, 32, 32, 32)   9248        dropout_2[0][0]                  \n",
      "__________________________________________________________________________________________________\n",
      "max_pooling2d_2 (MaxPooling2D)  (None, 16, 16, 32)   0           conv2d_4[0][0]                   \n",
      "__________________________________________________________________________________________________\n",
      "conv2d_5 (Conv2D)               (None, 16, 16, 64)   18496       max_pooling2d_2[0][0]            \n",
      "__________________________________________________________________________________________________\n",
      "dropout_3 (Dropout)             (None, 16, 16, 64)   0           conv2d_5[0][0]                   \n",
      "__________________________________________________________________________________________________\n",
      "conv2d_6 (Conv2D)               (None, 16, 16, 64)   36928       dropout_3[0][0]                  \n",
      "__________________________________________________________________________________________________\n",
      "max_pooling2d_3 (MaxPooling2D)  (None, 8, 8, 64)     0           conv2d_6[0][0]                   \n",
      "__________________________________________________________________________________________________\n",
      "conv2d_7 (Conv2D)               (None, 8, 8, 128)    73856       max_pooling2d_3[0][0]            \n",
      "__________________________________________________________________________________________________\n",
      "dropout_4 (Dropout)             (None, 8, 8, 128)    0           conv2d_7[0][0]                   \n",
      "__________________________________________________________________________________________________\n",
      "conv2d_8 (Conv2D)               (None, 8, 8, 128)    147584      dropout_4[0][0]                  \n",
      "__________________________________________________________________________________________________\n",
      "max_pooling2d_4 (MaxPooling2D)  (None, 4, 4, 128)    0           conv2d_8[0][0]                   \n",
      "__________________________________________________________________________________________________\n",
      "conv2d_9 (Conv2D)               (None, 4, 4, 256)    295168      max_pooling2d_4[0][0]            \n",
      "__________________________________________________________________________________________________\n",
      "dropout_5 (Dropout)             (None, 4, 4, 256)    0           conv2d_9[0][0]                   \n",
      "__________________________________________________________________________________________________\n",
      "conv2d_10 (Conv2D)              (None, 4, 4, 256)    590080      dropout_5[0][0]                  \n",
      "__________________________________________________________________________________________________\n",
      "conv2d_transpose_1 (Conv2DTrans (None, 8, 8, 128)    131200      conv2d_10[0][0]                  \n",
      "__________________________________________________________________________________________________\n",
      "concatenate_1 (Concatenate)     (None, 8, 8, 256)    0           conv2d_transpose_1[0][0]         \n",
      "                                                                 conv2d_8[0][0]                   \n",
      "__________________________________________________________________________________________________\n",
      "conv2d_11 (Conv2D)              (None, 8, 8, 128)    295040      concatenate_1[0][0]              \n",
      "__________________________________________________________________________________________________\n",
      "dropout_6 (Dropout)             (None, 8, 8, 128)    0           conv2d_11[0][0]                  \n",
      "__________________________________________________________________________________________________\n",
      "conv2d_12 (Conv2D)              (None, 8, 8, 128)    147584      dropout_6[0][0]                  \n",
      "__________________________________________________________________________________________________\n",
      "conv2d_transpose_2 (Conv2DTrans (None, 16, 16, 64)   32832       conv2d_12[0][0]                  \n",
      "__________________________________________________________________________________________________\n",
      "concatenate_2 (Concatenate)     (None, 16, 16, 128)  0           conv2d_transpose_2[0][0]         \n",
      "                                                                 conv2d_6[0][0]                   \n",
      "__________________________________________________________________________________________________\n",
      "conv2d_13 (Conv2D)              (None, 16, 16, 64)   73792       concatenate_2[0][0]              \n",
      "__________________________________________________________________________________________________\n",
      "dropout_7 (Dropout)             (None, 16, 16, 64)   0           conv2d_13[0][0]                  \n",
      "__________________________________________________________________________________________________\n",
      "conv2d_14 (Conv2D)              (None, 16, 16, 64)   36928       dropout_7[0][0]                  \n",
      "__________________________________________________________________________________________________\n",
      "conv2d_transpose_3 (Conv2DTrans (None, 32, 32, 32)   8224        conv2d_14[0][0]                  \n",
      "__________________________________________________________________________________________________\n",
      "concatenate_3 (Concatenate)     (None, 32, 32, 64)   0           conv2d_transpose_3[0][0]         \n",
      "                                                                 conv2d_4[0][0]                   \n",
      "__________________________________________________________________________________________________\n",
      "conv2d_15 (Conv2D)              (None, 32, 32, 32)   18464       concatenate_3[0][0]              \n",
      "__________________________________________________________________________________________________\n",
      "dropout_8 (Dropout)             (None, 32, 32, 32)   0           conv2d_15[0][0]                  \n",
      "__________________________________________________________________________________________________\n",
      "conv2d_16 (Conv2D)              (None, 32, 32, 32)   9248        dropout_8[0][0]                  \n",
      "__________________________________________________________________________________________________\n",
      "conv2d_transpose_4 (Conv2DTrans (None, 64, 64, 16)   2064        conv2d_16[0][0]                  \n",
      "__________________________________________________________________________________________________\n",
      "concatenate_4 (Concatenate)     (None, 64, 64, 32)   0           conv2d_transpose_4[0][0]         \n",
      "                                                                 conv2d_2[0][0]                   \n",
      "__________________________________________________________________________________________________\n",
      "conv2d_17 (Conv2D)              (None, 64, 64, 16)   4624        concatenate_4[0][0]              \n",
      "__________________________________________________________________________________________________\n",
      "dropout_9 (Dropout)             (None, 64, 64, 16)   0           conv2d_17[0][0]                  \n",
      "__________________________________________________________________________________________________\n",
      "conv2d_18 (Conv2D)              (None, 64, 64, 16)   2320        dropout_9[0][0]                  \n",
      "__________________________________________________________________________________________________\n",
      "conv2d_19 (Conv2D)              (None, 64, 64, 1)    17          conv2d_18[0][0]                  \n",
      "==================================================================================================\n",
      "Total params: 1,940,817\n",
      "Trainable params: 1,940,817\n",
      "Non-trainable params: 0\n",
      "__________________________________________________________________________________________________\n"
     ]
    }
   ],
   "source": [
    "# vhodna plast\n",
    "inputs = Input((IMG_HEIGHT, IMG_WIDTH, IMG_CHANNELS))\n",
    "\n",
    "# V vzorec levi del navzdol\n",
    "    #1 layer\n",
    "S = Lambda(lambda x:x)(inputs)\n",
    "C1 = Conv2D(16,(3,3),activation = 'elu',kernel_initializer='he_normal',padding='same')(S) #definiramo plast pod spremenljivko C1\n",
    "C1 = Dropout(0.1)(C1) #\n",
    "C1 = Conv2D(16,(3,3),activation = 'elu',kernel_initializer='he_normal',padding='same')(C1) #(C1) - vhod\n",
    "P1 = MaxPooling2D((2,2))(C1)\n",
    "    \n",
    "    #2 layer\n",
    "C2 = Conv2D(32,(3,3),activation = 'elu',kernel_initializer='he_normal',padding='same')(P1)\n",
    "C2 = Dropout(0.1)(C2)\n",
    "C2 = Conv2D(32,(3,3),activation = 'elu',kernel_initializer='he_normal',padding='same')(C2)\n",
    "P2 = MaxPooling2D((2,2))(C2)\n",
    "\n",
    "    #3 layer\n",
    "C3 = Conv2D(64,(3,3),activation = 'elu',kernel_initializer='he_normal',padding='same')(P2)\n",
    "C3 = Dropout(0.2)(C3)\n",
    "C3 = Conv2D(64,(3,3),activation = 'elu',kernel_initializer='he_normal',padding='same')(C3)\n",
    "P3 = MaxPooling2D((2,2))(C3)\n",
    "\n",
    "    #4 layer\n",
    "C4 = Conv2D(128,(3,3),activation = 'elu',kernel_initializer='he_normal',padding='same')(P3)\n",
    "C4 = Dropout(0.2)(C4)\n",
    "C4 = Conv2D(128,(3,3),activation = 'elu',kernel_initializer='he_normal',padding='same')(C4)\n",
    "P4 = MaxPooling2D((2,2))(C4)\n",
    "\n",
    "    #5 layer\n",
    "C5 = Conv2D(256,(3,3),activation = 'elu',kernel_initializer='he_normal',padding='same')(P4)\n",
    "C5 = Dropout(0.3)(C5)\n",
    "C5 = Conv2D(256,(3,3),activation = 'elu',kernel_initializer='he_normal',padding='same')(C5)\n",
    "P5 = MaxPooling2D((2,2))(C5)\n",
    "\n",
    "# V vzorez desni del navzgor\n",
    "    #u - up sampling\n",
    "    #1 layer\n",
    "U6 = Conv2DTranspose(128, (2,2),strides =(2,2),padding='same')(C5)\n",
    "U6 = concatenate([U6,C4])\n",
    "C6 = Conv2D(128, (3,3), activation = 'elu',kernel_initializer='he_normal',padding='same')(U6)\n",
    "C6 = Dropout(0.2)(C6)\n",
    "C6 = Conv2D(128, (3,3), activation = 'elu',kernel_initializer='he_normal',padding='same')(C6)\n",
    "\n",
    "    #2 layer\n",
    "U7 = Conv2DTranspose(64, (2,2),strides =(2,2),padding='same')(C6)\n",
    "U7 = concatenate([U7,C3])\n",
    "C7 = Conv2D(64, (3,3), activation = 'elu',kernel_initializer='he_normal',padding='same')(U7)\n",
    "C7 = Dropout(0.2)(C7)\n",
    "C7 = Conv2D(64, (3,3), activation = 'elu',kernel_initializer='he_normal',padding='same')(C7)\n",
    "\n",
    "    #3 layer\n",
    "U8 = Conv2DTranspose(32, (2,2),strides =(2,2),padding='same')(C7)\n",
    "U8 = concatenate([U8,C2])\n",
    "C8 = Conv2D(32, (3,3), activation = 'elu',kernel_initializer='he_normal',padding='same')(U8)\n",
    "C8 = Dropout(0.1)(C8)\n",
    "C8 = Conv2D(32, (3,3), activation = 'elu',kernel_initializer='he_normal',padding='same')(C8)\n",
    "\n",
    "    #4 layer\n",
    "U9 = Conv2DTranspose(16, (2,2),strides =(2,2),padding='same')(C8)\n",
    "U9 = concatenate([U9,C1])\n",
    "C9 = Conv2D(16, (3,3), activation = 'elu',kernel_initializer='he_normal',padding='same')(U9)\n",
    "C9 = Dropout(0.1)(C9)\n",
    "C9 = Conv2D(16, (3,3), activation = 'elu',kernel_initializer='he_normal',padding='same')(C9)\n",
    "\n",
    "outputs = Conv2D(1,(1,1), activation = 'sigmoid')(C9)\n",
    "\n",
    "model = Model(inputs=[inputs], outputs=[outputs])\n",
    "# povzetek modela\n",
    "model.summary()"
   ]
  },
  {
   "cell_type": "markdown",
   "metadata": {
    "deletable": false,
    "editable": false,
    "nbgrader": {
     "cell_type": "markdown",
     "checksum": "bc25f7b249dff7b539b548e470a04d09",
     "grade": false,
     "grade_id": "cell-73b6619eba895e43",
     "locked": true,
     "schema_version": 3,
     "solution": false,
     "task": false
    }
   },
   "source": [
    "### Definicija kriterijskih funkcij\n",
    "\n",
    "Kriterijske funkcije lahko v obliki Python funkcij z ustreznimi vhodnimi parametri:\n",
    "- **y_true**: referenčna razgradnja ali oznaka\n",
    "- **y_pred**: z modelom določena razgradnja ali oznaka\n",
    "    \n",
    "Poizkusite delovanje različnih funkcij in njihov vpliv na kakovost razgradnje."
   ]
  },
  {
   "cell_type": "code",
   "execution_count": 7,
   "metadata": {
    "_cell_guid": "c1df6f3a-d58f-434b-9216-ef7be38637d4",
    "_uuid": "5abd38950ae99b60f8afec7656eb654a48d449fe"
   },
   "outputs": [],
   "source": [
    "def mean_iou(y_true, y_pred):\n",
    "    prec = []\n",
    "    for t in np.arange(0.5, 1.0, 0.05):\n",
    "        y_pred_ = tf.to_int32(y_pred > t)\n",
    "        score, up_opt = tf.metrics.mean_iou(y_true, y_pred_, 2)\n",
    "        K.get_session().run(tf.local_variables_initializer())\n",
    "        with tf.control_dependencies([up_opt]):\n",
    "            score = tf.identity(score)\n",
    "        prec.append(score)\n",
    "    return K.mean(K.stack(prec), axis=0)\n",
    "\n",
    "def iou_coef(y_true, y_pred, smooth=1):\n",
    "    \"\"\"\n",
    "    IoU = (|X &amp; Y|)/ (|X or Y|)\n",
    "    \"\"\"\n",
    "    intersection = K.sum(K.abs(y_true * y_pred), axis=-1)\n",
    "    union = K.sum(y_true,-1) + K.sum(y_pred,-1) - intersection\n",
    "    return (intersection + smooth) / ( union + smooth)\n",
    "\n",
    "def iou_coef_loss(y_true, y_pred):\n",
    "    return -iou_coef(y_true, y_pred)\n",
    "\n",
    "def dice_coef(y_true, y_pred):\n",
    "    \"\"\"\n",
    "    DSC = (2*|X &amp; Y|)/ (|X| + |Y|)\n",
    "    \"\"\"    \n",
    "    smooth = 1\n",
    "    y_true_f = K.flatten(y_true)\n",
    "    y_pred_f = K.flatten(y_pred)\n",
    "    intersection = K.sum(y_true_f * y_pred_f)\n",
    "    return (2. * intersection + smooth) / (K.sum(y_true_f) + K.sum(y_pred_f) + smooth)\n",
    "\n",
    "def dice_coef_loss(y_true, y_pred):\n",
    "    return 1-dice_coef(y_true, y_pred)"
   ]
  },
  {
   "cell_type": "markdown",
   "metadata": {
    "deletable": false,
    "editable": false,
    "nbgrader": {
     "cell_type": "markdown",
     "checksum": "5d7f723c343485e981b95e74d5225b6d",
     "grade": false,
     "grade_id": "cell-bab8a0b67052f9f6",
     "locked": true,
     "schema_version": 3,
     "solution": false,
     "task": false
    }
   },
   "source": [
    "### Nastavitve modela za učenje\n",
    "\n",
    "Funkcija **compile()** opravi prevajanje modela v strojno kodo, ki je primerna za učinkovito izvajanje. Nekateri pomembni parametri funkcije so:\n",
    "- **optimizer**: naziv ali objekt postopka optimizacije (glej možnosti [optimizers](https://keras.io/optimizers/))\n",
    "- **loss**: naziv ali objekt kriterijske funkcije (glej možnosti [losses](https://keras.io/losses/))\n",
    "- **metrics**: seznam metrik za vrednotenje modela med učenjem in testiranjem\n",
    "\n",
    "Pomemben hiperparameter vsakega postopka optimizacije je tudi učna konstanta. V tem primeru bomo prepustili postopku optimizacije, da uporabi privzeto vrednost."
   ]
  },
  {
   "cell_type": "code",
   "execution_count": 8,
   "metadata": {},
   "outputs": [],
   "source": [
    "model.compile(\n",
    "    optimizer='adam', \n",
    "    loss='binary_crossentropy', \n",
    "    metrics=[dice_coef])"
   ]
  },
  {
   "cell_type": "markdown",
   "metadata": {
    "deletable": false,
    "editable": false,
    "nbgrader": {
     "cell_type": "markdown",
     "checksum": "d93c306762a5f965e6c18b02389469c6",
     "grade": false,
     "grade_id": "cell-c0bf5753d8a521a7",
     "locked": true,
     "schema_version": 3,
     "solution": false,
     "task": false
    }
   },
   "source": [
    "### Hiperparametri\n",
    "\n",
    "Nekaj pomembnih izpostavljenih parametrov, ki so vezani na učenje modela."
   ]
  },
  {
   "cell_type": "code",
   "execution_count": 9,
   "metadata": {},
   "outputs": [],
   "source": [
    "BATCH_SIZE = 5\n",
    "NUM_EPOCHS = 200"
   ]
  },
  {
   "cell_type": "markdown",
   "metadata": {
    "editable": false,
    "nbgrader": {
     "cell_type": "markdown",
     "checksum": "0108406289c1caf58cdaaf367539bfea",
     "grade": false,
     "grade_id": "cell-84b8ad30dec6296d",
     "locked": true,
     "schema_version": 3,
     "solution": false,
     "task": false
    }
   },
   "source": [
    "### Učenje modela"
   ]
  },
  {
   "cell_type": "code",
   "execution_count": 10,
   "metadata": {
    "_cell_guid": "9415b1c4-aa69-41b9-a1e3-d6053dbd4f64",
    "_uuid": "c060db22daa2abf12b28240cd81bbcbf1ce1bf87"
   },
   "outputs": [
    {
     "name": "stdout",
     "output_type": "stream",
     "text": [
      "WARNING:tensorflow:From /opt/conda/lib/python3.6/site-packages/tensorflow/python/ops/math_ops.py:3066: to_int32 (from tensorflow.python.ops.math_ops) is deprecated and will be removed in a future version.\n",
      "Instructions for updating:\n",
      "Use tf.cast instead.\n",
      "Train on 315 samples, validate on 36 samples\n",
      "Epoch 1/200\n",
      "315/315 [==============================] - 3s 10ms/step - loss: 0.2822 - dice_coef: 0.1945 - val_loss: 0.1561 - val_dice_coef: 0.3244\n",
      "\n",
      "Epoch 00001: val_loss improved from inf to 0.15608, saving model to models/model-t1-lores-and-hires-train-v8\n",
      "Epoch 2/200\n",
      "315/315 [==============================] - 1s 2ms/step - loss: 0.1404 - dice_coef: 0.4041 - val_loss: 0.1092 - val_dice_coef: 0.5113\n",
      "\n",
      "Epoch 00002: val_loss improved from 0.15608 to 0.10920, saving model to models/model-t1-lores-and-hires-train-v8\n",
      "Epoch 3/200\n",
      "315/315 [==============================] - 1s 3ms/step - loss: 0.1071 - dice_coef: 0.5321 - val_loss: 0.0882 - val_dice_coef: 0.5938\n",
      "\n",
      "Epoch 00003: val_loss improved from 0.10920 to 0.08823, saving model to models/model-t1-lores-and-hires-train-v8\n",
      "Epoch 4/200\n",
      "315/315 [==============================] - 1s 3ms/step - loss: 0.0918 - dice_coef: 0.5995 - val_loss: 0.0800 - val_dice_coef: 0.6530\n",
      "\n",
      "Epoch 00004: val_loss improved from 0.08823 to 0.08001, saving model to models/model-t1-lores-and-hires-train-v8\n",
      "Epoch 5/200\n",
      "315/315 [==============================] - 1s 3ms/step - loss: 0.0799 - dice_coef: 0.6498 - val_loss: 0.0681 - val_dice_coef: 0.7205\n",
      "\n",
      "Epoch 00005: val_loss improved from 0.08001 to 0.06809, saving model to models/model-t1-lores-and-hires-train-v8\n",
      "Epoch 6/200\n",
      "315/315 [==============================] - 1s 2ms/step - loss: 0.0664 - dice_coef: 0.7134 - val_loss: 0.0586 - val_dice_coef: 0.7760\n",
      "\n",
      "Epoch 00006: val_loss improved from 0.06809 to 0.05862, saving model to models/model-t1-lores-and-hires-train-v8\n",
      "Epoch 7/200\n",
      "315/315 [==============================] - 1s 3ms/step - loss: 0.0554 - dice_coef: 0.7603 - val_loss: 0.0527 - val_dice_coef: 0.7998\n",
      "\n",
      "Epoch 00007: val_loss improved from 0.05862 to 0.05275, saving model to models/model-t1-lores-and-hires-train-v8\n",
      "Epoch 8/200\n",
      "315/315 [==============================] - 1s 3ms/step - loss: 0.0486 - dice_coef: 0.7934 - val_loss: 0.0412 - val_dice_coef: 0.8297\n",
      "\n",
      "Epoch 00008: val_loss improved from 0.05275 to 0.04122, saving model to models/model-t1-lores-and-hires-train-v8\n",
      "Epoch 9/200\n",
      "315/315 [==============================] - 1s 3ms/step - loss: 0.0429 - dice_coef: 0.8172 - val_loss: 0.0387 - val_dice_coef: 0.8515\n",
      "\n",
      "Epoch 00009: val_loss improved from 0.04122 to 0.03867, saving model to models/model-t1-lores-and-hires-train-v8\n",
      "Epoch 10/200\n",
      "315/315 [==============================] - 1s 3ms/step - loss: 0.0378 - dice_coef: 0.8397 - val_loss: 0.0402 - val_dice_coef: 0.8571\n",
      "\n",
      "Epoch 00010: val_loss did not improve from 0.03867\n",
      "Epoch 11/200\n",
      "315/315 [==============================] - 1s 3ms/step - loss: 0.0360 - dice_coef: 0.8483 - val_loss: 0.0322 - val_dice_coef: 0.8732\n",
      "\n",
      "Epoch 00011: val_loss improved from 0.03867 to 0.03215, saving model to models/model-t1-lores-and-hires-train-v8\n",
      "Epoch 12/200\n",
      "315/315 [==============================] - 1s 2ms/step - loss: 0.0329 - dice_coef: 0.8609 - val_loss: 0.0319 - val_dice_coef: 0.8798\n",
      "\n",
      "Epoch 00012: val_loss improved from 0.03215 to 0.03195, saving model to models/model-t1-lores-and-hires-train-v8\n",
      "Epoch 13/200\n",
      "315/315 [==============================] - 1s 3ms/step - loss: 0.0317 - dice_coef: 0.8667 - val_loss: 0.0291 - val_dice_coef: 0.8913\n",
      "\n",
      "Epoch 00013: val_loss improved from 0.03195 to 0.02910, saving model to models/model-t1-lores-and-hires-train-v8\n",
      "Epoch 14/200\n",
      "315/315 [==============================] - 1s 3ms/step - loss: 0.0297 - dice_coef: 0.8756 - val_loss: 0.0320 - val_dice_coef: 0.8850\n",
      "\n",
      "Epoch 00014: val_loss did not improve from 0.02910\n",
      "Epoch 15/200\n",
      "315/315 [==============================] - 1s 3ms/step - loss: 0.0288 - dice_coef: 0.8793 - val_loss: 0.0265 - val_dice_coef: 0.8980\n",
      "\n",
      "Epoch 00015: val_loss improved from 0.02910 to 0.02652, saving model to models/model-t1-lores-and-hires-train-v8\n",
      "Epoch 16/200\n",
      "315/315 [==============================] - 1s 2ms/step - loss: 0.0270 - dice_coef: 0.8871 - val_loss: 0.0266 - val_dice_coef: 0.8999\n",
      "\n",
      "Epoch 00016: val_loss did not improve from 0.02652\n",
      "Epoch 17/200\n",
      "315/315 [==============================] - 1s 3ms/step - loss: 0.0250 - dice_coef: 0.8947 - val_loss: 0.0253 - val_dice_coef: 0.9042\n",
      "\n",
      "Epoch 00017: val_loss improved from 0.02652 to 0.02530, saving model to models/model-t1-lores-and-hires-train-v8\n",
      "Epoch 18/200\n",
      "315/315 [==============================] - 1s 2ms/step - loss: 0.0251 - dice_coef: 0.8945 - val_loss: 0.0263 - val_dice_coef: 0.9060\n",
      "\n",
      "Epoch 00018: val_loss did not improve from 0.02530\n",
      "Epoch 19/200\n",
      "315/315 [==============================] - 1s 3ms/step - loss: 0.0233 - dice_coef: 0.9023 - val_loss: 0.0214 - val_dice_coef: 0.9167\n",
      "\n",
      "Epoch 00019: val_loss improved from 0.02530 to 0.02140, saving model to models/model-t1-lores-and-hires-train-v8\n",
      "Epoch 20/200\n",
      "315/315 [==============================] - 1s 2ms/step - loss: 0.0228 - dice_coef: 0.9044 - val_loss: 0.0213 - val_dice_coef: 0.9182\n",
      "\n",
      "Epoch 00020: val_loss improved from 0.02140 to 0.02135, saving model to models/model-t1-lores-and-hires-train-v8\n",
      "Epoch 21/200\n",
      "315/315 [==============================] - 1s 3ms/step - loss: 0.0227 - dice_coef: 0.9053 - val_loss: 0.0216 - val_dice_coef: 0.9174\n",
      "\n",
      "Epoch 00021: val_loss did not improve from 0.02135\n",
      "Epoch 22/200\n",
      "315/315 [==============================] - 1s 2ms/step - loss: 0.0216 - dice_coef: 0.9100 - val_loss: 0.0213 - val_dice_coef: 0.9206\n",
      "\n",
      "Epoch 00022: val_loss improved from 0.02135 to 0.02134, saving model to models/model-t1-lores-and-hires-train-v8\n",
      "Epoch 23/200\n",
      "315/315 [==============================] - 1s 3ms/step - loss: 0.0208 - dice_coef: 0.9127 - val_loss: 0.0203 - val_dice_coef: 0.9228\n",
      "\n",
      "Epoch 00023: val_loss improved from 0.02134 to 0.02033, saving model to models/model-t1-lores-and-hires-train-v8\n",
      "Epoch 24/200\n",
      "315/315 [==============================] - 1s 3ms/step - loss: 0.0199 - dice_coef: 0.9163 - val_loss: 0.0199 - val_dice_coef: 0.9242\n",
      "\n",
      "Epoch 00024: val_loss improved from 0.02033 to 0.01994, saving model to models/model-t1-lores-and-hires-train-v8\n",
      "Epoch 25/200\n",
      "315/315 [==============================] - 1s 2ms/step - loss: 0.0191 - dice_coef: 0.9200 - val_loss: 0.0204 - val_dice_coef: 0.9251\n",
      "\n",
      "Epoch 00025: val_loss did not improve from 0.01994\n",
      "Epoch 26/200\n",
      "315/315 [==============================] - 1s 3ms/step - loss: 0.0192 - dice_coef: 0.9209 - val_loss: 0.0208 - val_dice_coef: 0.9214\n",
      "\n",
      "Epoch 00026: val_loss did not improve from 0.01994\n",
      "Epoch 27/200\n",
      "315/315 [==============================] - 1s 3ms/step - loss: 0.0183 - dice_coef: 0.9234 - val_loss: 0.0192 - val_dice_coef: 0.9288\n",
      "\n",
      "Epoch 00027: val_loss improved from 0.01994 to 0.01921, saving model to models/model-t1-lores-and-hires-train-v8\n",
      "Epoch 28/200\n",
      "315/315 [==============================] - 1s 2ms/step - loss: 0.0197 - dice_coef: 0.9202 - val_loss: 0.0204 - val_dice_coef: 0.9197\n",
      "\n",
      "Epoch 00028: val_loss did not improve from 0.01921\n",
      "Epoch 29/200\n",
      "315/315 [==============================] - 1s 3ms/step - loss: 0.0180 - dice_coef: 0.9244 - val_loss: 0.0186 - val_dice_coef: 0.9311\n",
      "\n",
      "Epoch 00029: val_loss improved from 0.01921 to 0.01863, saving model to models/model-t1-lores-and-hires-train-v8\n",
      "Epoch 30/200\n",
      "315/315 [==============================] - 1s 2ms/step - loss: 0.0168 - dice_coef: 0.9297 - val_loss: 0.0198 - val_dice_coef: 0.9309\n",
      "\n",
      "Epoch 00030: val_loss did not improve from 0.01863\n",
      "Epoch 31/200\n",
      "315/315 [==============================] - 1s 2ms/step - loss: 0.0171 - dice_coef: 0.9297 - val_loss: 0.0184 - val_dice_coef: 0.9331\n",
      "\n",
      "Epoch 00031: val_loss improved from 0.01863 to 0.01845, saving model to models/model-t1-lores-and-hires-train-v8\n",
      "Epoch 32/200\n",
      "315/315 [==============================] - 1s 2ms/step - loss: 0.0166 - dice_coef: 0.9308 - val_loss: 0.0194 - val_dice_coef: 0.9306\n",
      "\n",
      "Epoch 00032: val_loss did not improve from 0.01845\n",
      "Epoch 33/200\n",
      "315/315 [==============================] - 1s 2ms/step - loss: 0.0163 - dice_coef: 0.9324 - val_loss: 0.0180 - val_dice_coef: 0.9344\n",
      "\n",
      "Epoch 00033: val_loss improved from 0.01845 to 0.01805, saving model to models/model-t1-lores-and-hires-train-v8\n"
     ]
    },
    {
     "name": "stdout",
     "output_type": "stream",
     "text": [
      "Epoch 34/200\n",
      "315/315 [==============================] - 1s 2ms/step - loss: 0.0159 - dice_coef: 0.9341 - val_loss: 0.0181 - val_dice_coef: 0.9338\n",
      "\n",
      "Epoch 00034: val_loss did not improve from 0.01805\n",
      "Epoch 35/200\n",
      "315/315 [==============================] - 1s 4ms/step - loss: 0.0150 - dice_coef: 0.9376 - val_loss: 0.0172 - val_dice_coef: 0.9381\n",
      "\n",
      "Epoch 00035: val_loss improved from 0.01805 to 0.01724, saving model to models/model-t1-lores-and-hires-train-v8\n",
      "Epoch 36/200\n",
      "315/315 [==============================] - 1s 3ms/step - loss: 0.0158 - dice_coef: 0.9351 - val_loss: 0.0198 - val_dice_coef: 0.9315\n",
      "\n",
      "Epoch 00036: val_loss did not improve from 0.01724\n",
      "Epoch 37/200\n",
      "315/315 [==============================] - 1s 2ms/step - loss: 0.0164 - dice_coef: 0.9329 - val_loss: 0.0182 - val_dice_coef: 0.9308\n",
      "\n",
      "Epoch 00037: val_loss did not improve from 0.01724\n",
      "Epoch 38/200\n",
      "315/315 [==============================] - 1s 2ms/step - loss: 0.0175 - dice_coef: 0.9284 - val_loss: 0.0177 - val_dice_coef: 0.9346\n",
      "\n",
      "Epoch 00038: val_loss did not improve from 0.01724\n",
      "Epoch 39/200\n",
      "315/315 [==============================] - 1s 3ms/step - loss: 0.0147 - dice_coef: 0.9392 - val_loss: 0.0180 - val_dice_coef: 0.9376\n",
      "\n",
      "Epoch 00039: val_loss did not improve from 0.01724\n",
      "Epoch 40/200\n",
      "315/315 [==============================] - 1s 3ms/step - loss: 0.0146 - dice_coef: 0.9395 - val_loss: 0.0174 - val_dice_coef: 0.9402\n",
      "\n",
      "Epoch 00040: val_loss did not improve from 0.01724\n",
      "Epoch 41/200\n",
      "315/315 [==============================] - 1s 3ms/step - loss: 0.0143 - dice_coef: 0.9414 - val_loss: 0.0172 - val_dice_coef: 0.9388\n",
      "\n",
      "Epoch 00041: val_loss improved from 0.01724 to 0.01718, saving model to models/model-t1-lores-and-hires-train-v8\n",
      "Epoch 42/200\n",
      "315/315 [==============================] - 1s 2ms/step - loss: 0.0146 - dice_coef: 0.9399 - val_loss: 0.0174 - val_dice_coef: 0.9388\n",
      "\n",
      "Epoch 00042: val_loss did not improve from 0.01718\n",
      "Epoch 43/200\n",
      "315/315 [==============================] - 1s 3ms/step - loss: 0.0140 - dice_coef: 0.9422 - val_loss: 0.0173 - val_dice_coef: 0.9408\n",
      "\n",
      "Epoch 00043: val_loss did not improve from 0.01718\n",
      "Epoch 44/200\n",
      "315/315 [==============================] - 1s 3ms/step - loss: 0.0137 - dice_coef: 0.9440 - val_loss: 0.0165 - val_dice_coef: 0.9437\n",
      "\n",
      "Epoch 00044: val_loss improved from 0.01718 to 0.01655, saving model to models/model-t1-lores-and-hires-train-v8\n",
      "Epoch 45/200\n",
      "315/315 [==============================] - 1s 3ms/step - loss: 0.0131 - dice_coef: 0.9457 - val_loss: 0.0166 - val_dice_coef: 0.9437\n",
      "\n",
      "Epoch 00045: val_loss did not improve from 0.01655\n",
      "Epoch 46/200\n",
      "315/315 [==============================] - 1s 2ms/step - loss: 0.0126 - dice_coef: 0.9479 - val_loss: 0.0174 - val_dice_coef: 0.9447\n",
      "\n",
      "Epoch 00046: val_loss did not improve from 0.01655\n",
      "Epoch 47/200\n",
      "315/315 [==============================] - 1s 3ms/step - loss: 0.0126 - dice_coef: 0.9477 - val_loss: 0.0169 - val_dice_coef: 0.9454\n",
      "\n",
      "Epoch 00047: val_loss did not improve from 0.01655\n",
      "Epoch 48/200\n",
      "315/315 [==============================] - 1s 3ms/step - loss: 0.0125 - dice_coef: 0.9492 - val_loss: 0.0173 - val_dice_coef: 0.9423\n",
      "\n",
      "Epoch 00048: val_loss did not improve from 0.01655\n",
      "Epoch 49/200\n",
      "315/315 [==============================] - 1s 2ms/step - loss: 0.0120 - dice_coef: 0.9507 - val_loss: 0.0168 - val_dice_coef: 0.9440\n",
      "\n",
      "Epoch 00049: val_loss did not improve from 0.01655\n",
      "Epoch 50/200\n",
      "315/315 [==============================] - 1s 3ms/step - loss: 0.0123 - dice_coef: 0.9489 - val_loss: 0.0183 - val_dice_coef: 0.9451\n",
      "\n",
      "Epoch 00050: val_loss did not improve from 0.01655\n",
      "Epoch 51/200\n",
      "315/315 [==============================] - 1s 3ms/step - loss: 0.0123 - dice_coef: 0.9500 - val_loss: 0.0191 - val_dice_coef: 0.9432\n",
      "\n",
      "Epoch 00051: val_loss did not improve from 0.01655\n",
      "Epoch 52/200\n",
      "315/315 [==============================] - 1s 3ms/step - loss: 0.0116 - dice_coef: 0.9522 - val_loss: 0.0176 - val_dice_coef: 0.9452\n",
      "\n",
      "Epoch 00052: val_loss did not improve from 0.01655\n",
      "Epoch 53/200\n",
      "315/315 [==============================] - 1s 3ms/step - loss: 0.0118 - dice_coef: 0.9529 - val_loss: 0.0442 - val_dice_coef: 0.8927\n",
      "\n",
      "Epoch 00053: val_loss did not improve from 0.01655\n",
      "Epoch 54/200\n",
      "315/315 [==============================] - 1s 3ms/step - loss: 0.0747 - dice_coef: 0.7296 - val_loss: 0.0433 - val_dice_coef: 0.8227\n",
      "\n",
      "Epoch 00054: val_loss did not improve from 0.01655\n",
      "Epoch 00054: early stopping\n"
     ]
    }
   ],
   "source": [
    "# zaženi učenje modela\n",
    "earlystopper = EarlyStopping(patience=10, verbose=1)\n",
    "checkpointer = ModelCheckpoint(join('models', MODEL_NAME), verbose=1, save_best_only=True)\n",
    "results = model.fit(X_train, y_train, validation_split=0.1, batch_size=BATCH_SIZE, epochs=NUM_EPOCHS, \n",
    "                    callbacks=[earlystopper, checkpointer])"
   ]
  },
  {
   "cell_type": "markdown",
   "metadata": {
    "_cell_guid": "1f381f5b-1b71-4daa-a417-e02f4894540b",
    "_uuid": "bb15226ea617cf91ed8f43179fccb5a15809e5a0",
    "deletable": false,
    "editable": false,
    "nbgrader": {
     "cell_type": "markdown",
     "checksum": "334548c21ef9bd2df6c1e351740756b3",
     "grade": false,
     "grade_id": "cell-fc11ff55602b6d0b",
     "locked": true,
     "schema_version": 3,
     "solution": false,
     "task": false
    }
   },
   "source": [
    "## 3.3 Vrednotenje razgradnje\n",
    "\n",
    "Kakovost razgradnje bomo vrednotili **kvalitativno** s prikazom in primerjavo pridobljene in referenčne razgradnje ter **kvantitativno** z izračunom Diceovega podobnostnega koeficienta.\n",
    "\n",
    "### Naloži model in izračunaj razgradnje na učni in testni zbirki\n",
    "\n",
    "Razgradnja, ki jo bo U-net model vrnil v izhodnem polju *ni binarna*, kot pričakujemo, ampak so dane zvezne vrednosti v razponu [0, 1], ki predstavljajo posteriorno verjetnost oznak. V našem primeru so oznake:\n",
    "- **0**: ozadje\n",
    "- **1**: struktura zanimanja, kot smo jo določili z referenčnimi razgradnjami pri učenju"
   ]
  },
  {
   "cell_type": "code",
   "execution_count": 11,
   "metadata": {
    "_cell_guid": "2daa48d5-ac98-4e18-af3f-a582baaa44f0",
    "_uuid": "f841760b4abca1a25cb750822f88268bd79bf2ce"
   },
   "outputs": [
    {
     "name": "stdout",
     "output_type": "stream",
     "text": [
      "315/315 [==============================] - 0s 1ms/step\n",
      "39/39 [==============================] - 0s 1ms/step\n"
     ]
    }
   ],
   "source": [
    "# naloži model\n",
    "model = load_model(join('models', MODEL_NAME), \n",
    "                   custom_objects={'dice_coef': dice_coef, 'dice_coef_loss': dice_coef_loss})\n",
    "\n",
    "# opravi razgradnjo na učni in testni zbirki\n",
    "preds_train = model.predict(X_train[:int(X_train.shape[0]*0.9)], verbose=1)\n",
    "preds_test = model.predict(X_test, verbose=1)\n",
    "\n",
    "# dobljene vrednosti \n",
    "preds_train_t = (preds_train > 0.5).astype(np.uint8)\n",
    "preds_test_t = (preds_test > 0.5).astype(np.uint8)"
   ]
  },
  {
   "cell_type": "markdown",
   "metadata": {
    "deletable": false,
    "editable": false,
    "nbgrader": {
     "cell_type": "markdown",
     "checksum": "cd1fcbeaae513b88ab5a7f32273fe315",
     "grade": false,
     "grade_id": "cell-266ba7ebdd94cddf",
     "locked": true,
     "schema_version": 3,
     "solution": false,
     "task": false
    }
   },
   "source": [
    "### Kvalitativno: kakovost razgradnje na učnih vzorcih (ali sploh deluje?)"
   ]
  },
  {
   "cell_type": "code",
   "execution_count": 12,
   "metadata": {
    "_cell_guid": "649248cd-a1fb-4da6-ade2-4bebad44bcab",
    "_uuid": "7e06242a50870e07a080064a4912b761775990fa"
   },
   "outputs": [
    {
     "data": {
      "image/png": "[encoded data removed]",
      "text/plain": [
       "<Figure size 1440x360 with 3 Axes>"
      ]
     },
     "metadata": {
      "needs_background": "light"
     },
     "output_type": "display_data"
    }
   ],
   "source": [
    "# preveri kakovost razgradnje na učnih vzorcih (sanity check)\n",
    "ix = random.randint(0, len(preds_train_t)-1)\n",
    "_, _, num_modalities = X_train[ix].shape\n",
    "\n",
    "titles = [m.upper() + ' slika' for m in MODALITIES] + ['Referenčna razgradnja', 'Razgradnja U-net']\n",
    "f, ax = plt.subplots(1, num_modalities+2, sharex=True, sharey=True, figsize=(20, 5))\n",
    "for i in range(num_modalities):\n",
    "    ax[i].imshow(X_train[ix][:,:,i], cmap='gray')\n",
    "    ax[i].set_title(titles[i])\n",
    "    ax[i].axis('off')\n",
    "# prikaži referenčno razgradnjo\n",
    "ax[-2].imshow(np.squeeze(y_train[ix]))\n",
    "ax[-2].set_title(titles[-2])\n",
    "ax[-2].axis('off')\n",
    "# prikaži razgradnjo z U-net\n",
    "ax[-1].imshow(np.squeeze(preds_train_t[ix]))\n",
    "ax[-1].set_title(titles[-1])\n",
    "ax[-1].axis('off')\n",
    "\n",
    "plt.show()"
   ]
  },
  {
   "cell_type": "markdown",
   "metadata": {
    "deletable": false,
    "editable": false,
    "nbgrader": {
     "cell_type": "markdown",
     "checksum": "1920d6748570121ce6980df7945e6d5f",
     "grade": false,
     "grade_id": "cell-333565c1324c34a1",
     "locked": true,
     "schema_version": 3,
     "solution": false,
     "task": false
    }
   },
   "source": [
    "### Kvalitativno: kakovost razgradnje na testnih vzorcih (zmožnost posploševanja)"
   ]
  },
  {
   "cell_type": "code",
   "execution_count": 13,
   "metadata": {},
   "outputs": [
    {
     "data": {
      "image/png": "[encoded data removed]",
      "text/plain": [
       "<Figure size 1440x360 with 3 Axes>"
      ]
     },
     "metadata": {
      "needs_background": "light"
     },
     "output_type": "display_data"
    }
   ],
   "source": [
    "# preveri kakovost razgradnje na naključno izbranih testnih vzorcih\n",
    "ix = random.randint(0, len(preds_test_t)-1)\n",
    "_, _, num_modalities = X_test[ix].shape\n",
    "\n",
    "titles = [m.upper() + ' slika' for m in MODALITIES] + ['Referenčna razgradnja', 'Razgradnja U-net']\n",
    "f, ax = plt.subplots(1, num_modalities+2, sharex=True, sharey=True, figsize=(20, 5))\n",
    "for i in range(num_modalities):\n",
    "    ax[i].imshow(X_test[ix][:,:,i], cmap='gray')\n",
    "    ax[i].set_title(titles[i])\n",
    "    ax[i].axis('off')\n",
    "# prikaži referenčno razgradnjo\n",
    "ax[-2].imshow(np.squeeze(y_test[ix]))\n",
    "ax[-2].set_title(titles[-2])\n",
    "ax[-2].axis('off')\n",
    "# prikaži razgradnjo z U-net\n",
    "ax[-1].imshow(np.squeeze(preds_test_t[ix]))\n",
    "ax[-1].set_title(titles[-1])\n",
    "ax[-1].axis('off')\n",
    "\n",
    "plt.show()"
   ]
  },
  {
   "cell_type": "markdown",
   "metadata": {
    "deletable": false,
    "editable": false,
    "nbgrader": {
     "cell_type": "markdown",
     "checksum": "5116d9d92f5d63f52573578b96991ccf",
     "grade": false,
     "grade_id": "cell-0c635f94589fa11f",
     "locked": true,
     "schema_version": 3,
     "solution": false,
     "task": false
    }
   },
   "source": [
    "### Kvalitativno: povprečna vrednost Diceovega koeficienta na vseh testnih slikah"
   ]
  },
  {
   "cell_type": "code",
   "execution_count": 14,
   "metadata": {},
   "outputs": [
    {
     "name": "stdout",
     "output_type": "stream",
     "text": [
      "Povprečna vrednost Diceovega koeficienta na testni zbirki:  0.9529589613450128\n"
     ]
    }
   ],
   "source": [
    "def dice(result, reference):\n",
    "    result = np.atleast_1d(result.astype(np.bool))\n",
    "    reference = np.atleast_1d(reference.astype(np.bool))\n",
    "    intersection = np.count_nonzero(result & reference)\n",
    "    size_i1 = np.count_nonzero(result)\n",
    "    size_i2 = np.count_nonzero(reference)\n",
    "\n",
    "    try:\n",
    "        dc = 2. * intersection / float(size_i1 + size_i2)\n",
    "    except ZeroDivisionError:\n",
    "        dc = 0.0\n",
    "    return dc\n",
    "\n",
    "test_dice = []\n",
    "for i in range(y_test.shape[0]):\n",
    "    test_dice.append(dice(preds_test_t[i].flatten(), y_test[i].flatten()))\n",
    "\n",
    "print('Povprečna vrednost Diceovega koeficienta na testni zbirki: ', np.mean(test_dice))"
   ]
  },
  {
   "cell_type": "code",
   "execution_count": 15,
   "metadata": {},
   "outputs": [
    {
     "name": "stderr",
     "output_type": "stream",
     "text": [
      "100%|██████████| 1/1 [00:00<00:00,  6.76it/s]\n"
     ]
    },
    {
     "name": "stdout",
     "output_type": "stream",
     "text": [
      "Velikost 4D polja za učenje: (39, 64, 64, 1)\n",
      "Velikost 4D polja za testiranje: (39, 64, 64, 1)\n",
      "39/39 [==============================] - 0s 8ms/step\n"
     ]
    }
   ],
   "source": [
    "from amslib import load_mri_brain_data\n",
    "X_test2, Y_seg_test2 = load_mri_brain_data(output_size=(IMG_WIDTH, IMG_HEIGHT), modalities=('stir'), data_location='./data_t1_lores')\n",
    "Y_seg_test2 = (Y_seg_test2 > 0).astype('int8')\n",
    "\n",
    "print('Velikost 4D polja za učenje: {}'.format(X_test2.shape))\n",
    "print('Velikost 4D polja za testiranje: {}'.format(X_test2.shape))\n",
    "\n",
    "model = load_model(join('models', MODEL_NAME), \n",
    "                   custom_objects={'dice_coef': dice_coef, 'dice_coef_loss': dice_coef_loss})\n",
    "\n",
    "preds_test = model.predict(X_test2, verbose=1)\n",
    "preds_test_t = (preds_test > 0.5).astype(np.uint8)"
   ]
  },
  {
   "cell_type": "code",
   "execution_count": 16,
   "metadata": {},
   "outputs": [
    {
     "data": {
      "image/png": "[encoded data removed]",
      "text/plain": [
       "<Figure size 1440x360 with 3 Axes>"
      ]
     },
     "metadata": {
      "needs_background": "light"
     },
     "output_type": "display_data"
    }
   ],
   "source": [
    "# preveri kakovost razgradnje na naključno izbranih testnih vzorcih\n",
    "ix = random.randint(0, len(preds_test_t)-1)\n",
    "_, _, num_modalities = X_test2[ix].shape\n",
    "\n",
    "titles = [m.upper() + ' slika' for m in MODALITIES] + ['Referenčna razgradnja', 'Razgradnja U-net']\n",
    "f, ax = plt.subplots(1, num_modalities+2, sharex=True, sharey=True, figsize=(20, 5))\n",
    "for i in range(num_modalities):\n",
    "    ax[i].imshow(X_test2[ix][:,:,i], cmap='gray')\n",
    "    ax[i].set_title(titles[i])\n",
    "    ax[i].axis('off')\n",
    "# prikaži referenčno razgradnjo\n",
    "ax[-2].imshow(np.squeeze(Y_seg_test2[ix]))\n",
    "ax[-2].set_title(titles[-2])\n",
    "ax[-2].axis('off')\n",
    "# prikaži razgradnjo z U-net\n",
    "ax[-1].imshow(np.squeeze(preds_test_t[ix]))\n",
    "ax[-1].set_title(titles[-1])\n",
    "ax[-1].axis('off')\n",
    "\n",
    "plt.show()"
   ]
  },
  {
   "cell_type": "code",
   "execution_count": 17,
   "metadata": {},
   "outputs": [
    {
     "name": "stdout",
     "output_type": "stream",
     "text": [
      "Povprečna vrednost Diceovega koeficienta na testni zbirki:  0.7386535436960701\n"
     ]
    }
   ],
   "source": [
    "test_dice = []\n",
    "for i in range(Y_seg_test2.shape[0]):\n",
    "    test_dice.append(dice(preds_test_t[i].flatten(), Y_seg_test2[i].flatten()))\n",
    "\n",
    "print('Povprečna vrednost Diceovega koeficienta na testni zbirki: ', np.mean(test_dice))"
   ]
  },
  {
   "cell_type": "code",
   "execution_count": null,
   "metadata": {},
   "outputs": [],
   "source": []
  },
  {
   "cell_type": "code",
   "execution_count": null,
   "metadata": {},
   "outputs": [],
   "source": []
  }
 ],
 "metadata": {
  "celltoolbar": "Edit Metadata",
  "kernelspec": {
   "display_name": "Python 3",
   "language": "python",
   "name": "python3"
  },
  "language_info": {
   "codemirror_mode": {
    "name": "ipython",
    "version": 3
   },
   "file_extension": ".py",
   "mimetype": "text/x-python",
   "name": "python",
   "nbconvert_exporter": "python",
   "pygments_lexer": "ipython3",
   "version": "3.6.9"
  }
 },
 "nbformat": 4,
 "nbformat_minor": 1
}
